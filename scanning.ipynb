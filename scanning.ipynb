{
 "cells": [
  {
   "cell_type": "code",
   "id": "initial_id",
   "metadata": {
    "collapsed": true,
    "ExecuteTime": {
     "end_time": "2024-06-05T18:45:24.559584Z",
     "start_time": "2024-06-05T18:45:24.551574Z"
    }
   },
   "source": [
    "import pytesseract\n",
    "import re\n",
    "\n",
    "\n",
    "# '/app/.apt/usr/bin/tesseract'\n",
    "def read_img(img):\n",
    "    pytesseract.pytesseract.tesseract_cmd = r\"C:\\Program Files\\Tesseract-OCR\\tesseract.exe\"\n",
    "    image = Image.open(img)\n",
    "    image = image.convert('L')\n",
    "    threshold = 128\n",
    "    image = image.point(lambda p: p > threshold and 255)\n",
    "    text = pytesseract.image_to_string(image).lower()\n",
    "    return text\n",
    "\n",
    "\n",
    "def find_value(text, *keywords):\n",
    "    lines = text.split('\\n')\n",
    "    for line in lines:\n",
    "        for keyword in keywords:\n",
    "            if keyword in line.lower():\n",
    "                match = re.search(r'[\\d,]+\\.?\\d*', line)\n",
    "                if match:\n",
    "                    return float(match.group().replace(',', '.'))\n",
    "    return 0\n"
   ],
   "outputs": [],
   "execution_count": 9
  },
  {
   "metadata": {
    "ExecuteTime": {
     "end_time": "2024-06-05T18:58:34.908734Z",
     "start_time": "2024-06-05T18:58:34.900736Z"
    }
   },
   "cell_type": "code",
   "source": [
    "from PIL import Image\n",
    "\n",
    "\n",
    "def prediction(img):\n",
    "    img = read_img(img)\n",
    "    energy_value = find_value(img,'energi total', 'total energi', 'energy total', 'total energy','calories', 'energi', 'energy')\n",
    "    protein_value = find_value(img, 'protein')\n",
    "    lemak_value = find_value(img, 'lemak','lemak total', 'total lemak', 'total fat')\n",
    "    karbohidrat_value = find_value(img, 'karbohidrat', 'karbohidrat total','total carbohydrate')\n",
    "    serat_value = find_value(img, 'serat', 'serat pangan', 'dietary fiber')\n",
    "    natrium_value = find_value(img, 'natrium', 'garam', 'salt', 'sodium')\n",
    "\n",
    "    return {\"energi\": energy_value,\n",
    "            \"protein\": protein_value,\n",
    "            \"lemak\": lemak_value,\n",
    "            \"karbohidrat\": karbohidrat_value,\n",
    "            \"serat\": serat_value,\n",
    "            \"natrium\": natrium_value}"
   ],
   "id": "407d78756f985522",
   "outputs": [],
   "execution_count": 49
  },
  {
   "metadata": {
    "ExecuteTime": {
     "end_time": "2024-06-05T18:58:36.850218Z",
     "start_time": "2024-06-05T18:58:35.202037Z"
    }
   },
   "cell_type": "code",
   "source": "prediction(\"image/IMG-20240528-WA0013.jpg\")",
   "id": "1c2154d95cc629d0",
   "outputs": [
    {
     "ename": "ValueError",
     "evalue": "could not convert string to float: '.'",
     "output_type": "error",
     "traceback": [
      "\u001B[1;31m---------------------------------------------------------------------------\u001B[0m",
      "\u001B[1;31mValueError\u001B[0m                                Traceback (most recent call last)",
      "Cell \u001B[1;32mIn[50], line 1\u001B[0m\n\u001B[1;32m----> 1\u001B[0m \u001B[43mprediction\u001B[49m\u001B[43m(\u001B[49m\u001B[38;5;124;43m\"\u001B[39;49m\u001B[38;5;124;43mimage/IMG-20240528-WA0013.jpg\u001B[39;49m\u001B[38;5;124;43m\"\u001B[39;49m\u001B[43m)\u001B[49m\n",
      "Cell \u001B[1;32mIn[49], line 7\u001B[0m, in \u001B[0;36mprediction\u001B[1;34m(img)\u001B[0m\n\u001B[0;32m      5\u001B[0m img \u001B[38;5;241m=\u001B[39m read_img(img)\n\u001B[0;32m      6\u001B[0m energy_value \u001B[38;5;241m=\u001B[39m find_value(img, \u001B[38;5;124m'\u001B[39m\u001B[38;5;124menergi\u001B[39m\u001B[38;5;124m'\u001B[39m,\u001B[38;5;124m'\u001B[39m\u001B[38;5;124menergi total\u001B[39m\u001B[38;5;124m'\u001B[39m, \u001B[38;5;124m'\u001B[39m\u001B[38;5;124mtotal energi\u001B[39m\u001B[38;5;124m'\u001B[39m, \u001B[38;5;124m'\u001B[39m\u001B[38;5;124menergy total\u001B[39m\u001B[38;5;124m'\u001B[39m, \u001B[38;5;124m'\u001B[39m\u001B[38;5;124mtotal energy\u001B[39m\u001B[38;5;124m'\u001B[39m,\u001B[38;5;124m'\u001B[39m\u001B[38;5;124mcalories\u001B[39m\u001B[38;5;124m'\u001B[39m)\n\u001B[1;32m----> 7\u001B[0m protein_value \u001B[38;5;241m=\u001B[39m \u001B[43mfind_value\u001B[49m\u001B[43m(\u001B[49m\u001B[43mimg\u001B[49m\u001B[43m,\u001B[49m\u001B[43m \u001B[49m\u001B[38;5;124;43m'\u001B[39;49m\u001B[38;5;124;43mprotein\u001B[39;49m\u001B[38;5;124;43m'\u001B[39;49m\u001B[43m)\u001B[49m\n\u001B[0;32m      8\u001B[0m lemak_value \u001B[38;5;241m=\u001B[39m find_value(img, \u001B[38;5;124m'\u001B[39m\u001B[38;5;124mlemak\u001B[39m\u001B[38;5;124m'\u001B[39m,\u001B[38;5;124m'\u001B[39m\u001B[38;5;124mlemak total\u001B[39m\u001B[38;5;124m'\u001B[39m, \u001B[38;5;124m'\u001B[39m\u001B[38;5;124mtotal lemak\u001B[39m\u001B[38;5;124m'\u001B[39m, \u001B[38;5;124m'\u001B[39m\u001B[38;5;124mtotal fat\u001B[39m\u001B[38;5;124m'\u001B[39m)\n\u001B[0;32m      9\u001B[0m karbohidrat_value \u001B[38;5;241m=\u001B[39m find_value(img, \u001B[38;5;124m'\u001B[39m\u001B[38;5;124mkarbohidrat\u001B[39m\u001B[38;5;124m'\u001B[39m, \u001B[38;5;124m'\u001B[39m\u001B[38;5;124mkarbohidrat total\u001B[39m\u001B[38;5;124m'\u001B[39m,\u001B[38;5;124m'\u001B[39m\u001B[38;5;124mtotal carbohydrate\u001B[39m\u001B[38;5;124m'\u001B[39m)\n",
      "Cell \u001B[1;32mIn[9], line 23\u001B[0m, in \u001B[0;36mfind_value\u001B[1;34m(text, *keywords)\u001B[0m\n\u001B[0;32m     21\u001B[0m             match \u001B[38;5;241m=\u001B[39m re\u001B[38;5;241m.\u001B[39msearch(\u001B[38;5;124mr\u001B[39m\u001B[38;5;124m'\u001B[39m\u001B[38;5;124m[\u001B[39m\u001B[38;5;124m\\\u001B[39m\u001B[38;5;124md,]+\u001B[39m\u001B[38;5;124m\\\u001B[39m\u001B[38;5;124m.?\u001B[39m\u001B[38;5;124m\\\u001B[39m\u001B[38;5;124md*\u001B[39m\u001B[38;5;124m'\u001B[39m, line)\n\u001B[0;32m     22\u001B[0m             \u001B[38;5;28;01mif\u001B[39;00m match:\n\u001B[1;32m---> 23\u001B[0m                 \u001B[38;5;28;01mreturn\u001B[39;00m \u001B[38;5;28;43mfloat\u001B[39;49m\u001B[43m(\u001B[49m\u001B[43mmatch\u001B[49m\u001B[38;5;241;43m.\u001B[39;49m\u001B[43mgroup\u001B[49m\u001B[43m(\u001B[49m\u001B[43m)\u001B[49m\u001B[38;5;241;43m.\u001B[39;49m\u001B[43mreplace\u001B[49m\u001B[43m(\u001B[49m\u001B[38;5;124;43m'\u001B[39;49m\u001B[38;5;124;43m,\u001B[39;49m\u001B[38;5;124;43m'\u001B[39;49m\u001B[43m,\u001B[49m\u001B[43m \u001B[49m\u001B[38;5;124;43m'\u001B[39;49m\u001B[38;5;124;43m.\u001B[39;49m\u001B[38;5;124;43m'\u001B[39;49m\u001B[43m)\u001B[49m\u001B[43m)\u001B[49m\n\u001B[0;32m     24\u001B[0m \u001B[38;5;28;01mreturn\u001B[39;00m \u001B[38;5;241m0\u001B[39m\n",
      "\u001B[1;31mValueError\u001B[0m: could not convert string to float: '.'"
     ]
    }
   ],
   "execution_count": 50
  },
  {
   "metadata": {},
   "cell_type": "code",
   "source": [
    "from PIL import Image\n",
    "\n",
    "\n",
    "def prediction(img):\n",
    "    img = read_img(img)\n",
    "    energy_value = find_value(img, 'energi')\n",
    "    protein_value = find_value(img, 'protein')\n",
    "    lemak_value = find_value(img, 'lemak total')\n",
    "    karbohidrat_value = find_value(img, 'karbohidrat')\n",
    "    serat_value = find_value(img, 'serat')\n",
    "    natrium_value = find_value(img, 'natrium')\n",
    "\n",
    "    return {\"energi\": energy_value,\n",
    "            \"protein\": protein_value,\n",
    "            \"lemak\": lemak_value,\n",
    "            \"karbohidrat\": karbohidrat_value,\n",
    "            \"serat\": serat_value,\n",
    "            \"natrium\": natrium_value}"
   ],
   "id": "4b2ca7bf72d4e8c8",
   "outputs": [],
   "execution_count": null
  },
  {
   "metadata": {
    "ExecuteTime": {
     "end_time": "2024-06-05T18:58:42.253956Z",
     "start_time": "2024-06-05T18:58:40.763871Z"
    }
   },
   "cell_type": "code",
   "source": "prediction(\"image/IMG-20240528-WA0013.jpg\")",
   "id": "b8f5dea6f9462154",
   "outputs": [
    {
     "ename": "ValueError",
     "evalue": "could not convert string to float: '.'",
     "output_type": "error",
     "traceback": [
      "\u001B[1;31m---------------------------------------------------------------------------\u001B[0m",
      "\u001B[1;31mValueError\u001B[0m                                Traceback (most recent call last)",
      "Cell \u001B[1;32mIn[51], line 1\u001B[0m\n\u001B[1;32m----> 1\u001B[0m \u001B[43mprediction\u001B[49m\u001B[43m(\u001B[49m\u001B[38;5;124;43m\"\u001B[39;49m\u001B[38;5;124;43mimage/IMG-20240528-WA0013.jpg\u001B[39;49m\u001B[38;5;124;43m\"\u001B[39;49m\u001B[43m)\u001B[49m\n",
      "Cell \u001B[1;32mIn[49], line 7\u001B[0m, in \u001B[0;36mprediction\u001B[1;34m(img)\u001B[0m\n\u001B[0;32m      5\u001B[0m img \u001B[38;5;241m=\u001B[39m read_img(img)\n\u001B[0;32m      6\u001B[0m energy_value \u001B[38;5;241m=\u001B[39m find_value(img, \u001B[38;5;124m'\u001B[39m\u001B[38;5;124menergi\u001B[39m\u001B[38;5;124m'\u001B[39m,\u001B[38;5;124m'\u001B[39m\u001B[38;5;124menergi total\u001B[39m\u001B[38;5;124m'\u001B[39m, \u001B[38;5;124m'\u001B[39m\u001B[38;5;124mtotal energi\u001B[39m\u001B[38;5;124m'\u001B[39m, \u001B[38;5;124m'\u001B[39m\u001B[38;5;124menergy total\u001B[39m\u001B[38;5;124m'\u001B[39m, \u001B[38;5;124m'\u001B[39m\u001B[38;5;124mtotal energy\u001B[39m\u001B[38;5;124m'\u001B[39m,\u001B[38;5;124m'\u001B[39m\u001B[38;5;124mcalories\u001B[39m\u001B[38;5;124m'\u001B[39m)\n\u001B[1;32m----> 7\u001B[0m protein_value \u001B[38;5;241m=\u001B[39m \u001B[43mfind_value\u001B[49m\u001B[43m(\u001B[49m\u001B[43mimg\u001B[49m\u001B[43m,\u001B[49m\u001B[43m \u001B[49m\u001B[38;5;124;43m'\u001B[39;49m\u001B[38;5;124;43mprotein\u001B[39;49m\u001B[38;5;124;43m'\u001B[39;49m\u001B[43m)\u001B[49m\n\u001B[0;32m      8\u001B[0m lemak_value \u001B[38;5;241m=\u001B[39m find_value(img, \u001B[38;5;124m'\u001B[39m\u001B[38;5;124mlemak\u001B[39m\u001B[38;5;124m'\u001B[39m,\u001B[38;5;124m'\u001B[39m\u001B[38;5;124mlemak total\u001B[39m\u001B[38;5;124m'\u001B[39m, \u001B[38;5;124m'\u001B[39m\u001B[38;5;124mtotal lemak\u001B[39m\u001B[38;5;124m'\u001B[39m, \u001B[38;5;124m'\u001B[39m\u001B[38;5;124mtotal fat\u001B[39m\u001B[38;5;124m'\u001B[39m)\n\u001B[0;32m      9\u001B[0m karbohidrat_value \u001B[38;5;241m=\u001B[39m find_value(img, \u001B[38;5;124m'\u001B[39m\u001B[38;5;124mkarbohidrat\u001B[39m\u001B[38;5;124m'\u001B[39m, \u001B[38;5;124m'\u001B[39m\u001B[38;5;124mkarbohidrat total\u001B[39m\u001B[38;5;124m'\u001B[39m,\u001B[38;5;124m'\u001B[39m\u001B[38;5;124mtotal carbohydrate\u001B[39m\u001B[38;5;124m'\u001B[39m)\n",
      "Cell \u001B[1;32mIn[9], line 23\u001B[0m, in \u001B[0;36mfind_value\u001B[1;34m(text, *keywords)\u001B[0m\n\u001B[0;32m     21\u001B[0m             match \u001B[38;5;241m=\u001B[39m re\u001B[38;5;241m.\u001B[39msearch(\u001B[38;5;124mr\u001B[39m\u001B[38;5;124m'\u001B[39m\u001B[38;5;124m[\u001B[39m\u001B[38;5;124m\\\u001B[39m\u001B[38;5;124md,]+\u001B[39m\u001B[38;5;124m\\\u001B[39m\u001B[38;5;124m.?\u001B[39m\u001B[38;5;124m\\\u001B[39m\u001B[38;5;124md*\u001B[39m\u001B[38;5;124m'\u001B[39m, line)\n\u001B[0;32m     22\u001B[0m             \u001B[38;5;28;01mif\u001B[39;00m match:\n\u001B[1;32m---> 23\u001B[0m                 \u001B[38;5;28;01mreturn\u001B[39;00m \u001B[38;5;28;43mfloat\u001B[39;49m\u001B[43m(\u001B[49m\u001B[43mmatch\u001B[49m\u001B[38;5;241;43m.\u001B[39;49m\u001B[43mgroup\u001B[49m\u001B[43m(\u001B[49m\u001B[43m)\u001B[49m\u001B[38;5;241;43m.\u001B[39;49m\u001B[43mreplace\u001B[49m\u001B[43m(\u001B[49m\u001B[38;5;124;43m'\u001B[39;49m\u001B[38;5;124;43m,\u001B[39;49m\u001B[38;5;124;43m'\u001B[39;49m\u001B[43m,\u001B[49m\u001B[43m \u001B[49m\u001B[38;5;124;43m'\u001B[39;49m\u001B[38;5;124;43m.\u001B[39;49m\u001B[38;5;124;43m'\u001B[39;49m\u001B[43m)\u001B[49m\u001B[43m)\u001B[49m\n\u001B[0;32m     24\u001B[0m \u001B[38;5;28;01mreturn\u001B[39;00m \u001B[38;5;241m0\u001B[39m\n",
      "\u001B[1;31mValueError\u001B[0m: could not convert string to float: '.'"
     ]
    }
   ],
   "execution_count": 51
  },
  {
   "metadata": {
    "ExecuteTime": {
     "end_time": "2024-06-05T17:42:40.796660Z",
     "start_time": "2024-06-05T17:42:40.080104Z"
    }
   },
   "cell_type": "code",
   "source": "read_img(\"image/IMG-20240528-WA0011.jpg\")",
   "id": "8887c666e32539e8",
   "outputs": [
    {
     "data": {
      "text/plain": [
       "'inzormas! nilai gizi/nutrition facts kom\\n\\ntakaran sai / serving size 25 g (24..\\n& sajian per kemasan / servings per pack ,\\n\\nlesiti\\njumlah per sajian / amount per serving | \"\\nenergi total /calories 150 kkal vanil\\nenergi dari lemak / calories from fat 90 kkal men\\nenergi dari lemak jenuh / calories from saturated fat 40 kkal ~=—«—sés dict\\n%akg/dy* inare\\nlemak total / total fat 10g 15% = ng\\nlemak jenuh / saturated fat 4.59 23% (24.\\nprotein / protein 39 5% lecitt\\nkarbohidrat total / total carbohydrate ng 3% cont\\ngula / sugar 79 :\\ngaram (natrium) / salt (sodium) 0 mg 0%\\nparsen akg berdasorkan keburshan enengi 2150 kkal. kebutuhan energi anda mungkin hebih tinggi | bean\\natau lebih rendah. where\\npercent doily volues are based on 2150 colorie diet. your daily volves may be higher or lower\\ndepending on your calorie needs. from\\nthe fir\\nnet:\\n150g\\n\\nhotline: 08001503035\\ncustomercare@therrchocolate.com ,\\nwww.therrchocolate.com |\\n}\\n|\\n\\nbaik digunakan sebelum / kode produksi :\\n\\nal 4re02 3\\nsh er sors\\n\\nbug, scs\\n\\n'"
      ]
     },
     "execution_count": 19,
     "metadata": {},
     "output_type": "execute_result"
    }
   ],
   "execution_count": 19
  },
  {
   "metadata": {
    "ExecuteTime": {
     "end_time": "2024-06-05T17:51:33.163411Z",
     "start_time": "2024-06-05T17:51:33.146900Z"
    }
   },
   "cell_type": "code",
   "source": [
    "ALLOWED_EXTENSIONS = ['png', 'jpg', 'jpeg', 'heic']\n",
    "\n",
    "def allowed_file(filename):\n",
    "    return \".\" in filename and \\\n",
    "        filename.split(\".\", 1)[1].lower() in ALLOWED_EXTENSIONS"
   ],
   "id": "92504c638597078c",
   "outputs": [],
   "execution_count": 21
  },
  {
   "metadata": {
    "ExecuteTime": {
     "end_time": "2024-06-05T17:52:39.785220Z",
     "start_time": "2024-06-05T17:52:39.768217Z"
    }
   },
   "cell_type": "code",
   "source": "allowed_file(\"WhatsApp Image 2024-06-06 at 01.09.05_0fb17832.jpg\")",
   "id": "5d88f6a20c9127b1",
   "outputs": [
    {
     "data": {
      "text/plain": [
       "False"
      ]
     },
     "execution_count": 24,
     "metadata": {},
     "output_type": "execute_result"
    }
   ],
   "execution_count": 24
  },
  {
   "metadata": {
    "ExecuteTime": {
     "end_time": "2024-06-05T17:54:10.412116Z",
     "start_time": "2024-06-05T17:54:10.402116Z"
    }
   },
   "cell_type": "code",
   "source": [
    "ALLOWED_EXTENSIONS = ['png', 'jpg', 'jpeg', 'heic']\n",
    "\n",
    "def allowed_file(filename):\n",
    "    return '.' in filename and \\\n",
    "           filename.rsplit('.', 1)[1].lower() in ALLOWED_EXTENSIONS\n",
    "\n",
    "print(allowed_file(\"WhatsApp Image 2024-06-06 at 01.09.05_0fb17832.jpg\"))"
   ],
   "id": "36f767211f62b484",
   "outputs": [
    {
     "name": "stdout",
     "output_type": "stream",
     "text": [
      "True\n"
     ]
    }
   ],
   "execution_count": 25
  },
  {
   "metadata": {
    "ExecuteTime": {
     "end_time": "2024-06-05T19:21:44.710649Z",
     "start_time": "2024-06-05T19:21:43.129047Z"
    }
   },
   "cell_type": "code",
   "source": [
    "text = read_img(\"image/IMG-20240528-WA0013.jpg\")\n",
    "lines = text.split('\\n')\n",
    "print(lines)"
   ],
   "id": "bb117499f9e42d76",
   "outputs": [
    {
     "name": "stdout",
     "output_type": "stream",
     "text": [
      "['sunflower). skim milk pow de on een ae ie oe', 'vegetable oil (palm, palm kernel oil), emulsriers 3% cthin (ins 305;', 'anim), cookies (12%) (wheat flour, 5193) vegatatie alm oil alka', 'powder (cows — “1 raising :', '', 'cn vctier soy lecithin ins 322i); whole mik | | :', 'en ooo, bare “allergen in. mation', '', '“ins sii); cocoa mass; artificial flavor: vanillin|', 'ee wheat, may contain traces of almon: © and haz', '', 'gula; minyak sayuran (kelapa sav *. bunga!', '', 'i). pepeial sirap jagung, laktosa (susu lembu):): minyak sayuran . “ainyak k', 'pengemilsi besit soya (ins 322i), perisa sintetik: vanilin}, biskut | ° 2%) [te', 'sawit); serbuk koko beralkalt: pengemulsi: lesitin soya ( ins 322i), susu tep', 's$ 500i); jisim koko: perisa tiruan: vanilin}. mengandung! pengemulsi can aq', '| dibenarkan. aditif makanan adalah daripada sumber tumbuhan dan sintetik. |', '', 'soya dan gandum. mungkin mengandungi sisa kacang bad', 'utih imitasi (88%) [gula, minyak nabati: susu skim bubuk, sirup jagung', 'sintetik vanila}; kukis (12%) [tepung gandum. gula; minyak nabati buc', '~ bikarbonat (ins 500i); kakao massa; perisa sintetik vanila) informa', 'an yang dicetak tebal. mungkin mengandung sisa kacanc', '', 'informasi nilai gizi nut', 'takaran saji: 36g (8 by!) a 4q size!', '4 sajian per kemasan gg servi 49 aor p', 'jumlah per sajian ee', 'energi total', '', 'y', '', 'an: coklat konfeksi putih (88%) |', '', '190kkai', 'ame average qua!', '', 'purata kuanti', '', 'lemak total', 'kolesterol omg 0%', '', 'roduks! lemak jenuh 6g 29% energy / tena', ', no. 1, protein 29g 4% 5', '', 'karbohidrat total 24g 7% | protein', '', 'gula | ona carbohydrate', '', ', ‘yo. fkan ke odium : natr', '', 'ytuhan energi anda | spar-entage of', '', 'energi 2150 kxal. mons', 'mungkin feb: caigg: atau lebih rendah. | peratusan nila!', '', 'leh gra co: eee vee ong,', '', 'taman perindustnan puchong', '', 'ingapore: dksh singapore', '', 'ore. indonesia: diimpor dan', 'putin raya kav. 1 ancol timur,', 'ores marketing international,', 'ity, 1115 philippines.', '', '6 942856', '', 'text, viber, of whatsapp)', '', '70302?', '']\n"
     ]
    }
   ],
   "execution_count": 86
  },
  {
   "metadata": {
    "ExecuteTime": {
     "end_time": "2024-06-05T19:21:44.725492Z",
     "start_time": "2024-06-05T19:21:44.711658Z"
    }
   },
   "cell_type": "code",
   "source": [
    "keywords = ['takaran saji']\n",
    "for line in lines:\n",
    "    print(\"Line:\", line)\n",
    "    for keyword in keywords:\n",
    "        if keyword in line.lower().split():\n",
    "            print(\"Keyword:\", keyword)\n",
    "            match = re.search(r'(\\d{1,3}(?:,\\d{3})*)(?:\\.\\d+)?\\s*g\\b', line)\n",
    "            if match:\n",
    "                try:\n",
    "                    value = float(match.group(1).replace(',', '.'))\n",
    "                    print(\"Extracted value:\", value)\n",
    "                except ValueError:\n",
    "                    print(\"Error: Unable to convert value to float\")"
   ],
   "id": "8d14d487ada908b0",
   "outputs": [
    {
     "name": "stdout",
     "output_type": "stream",
     "text": [
      "Line: sunflower). skim milk pow de on een ae ie oe\n",
      "Line: vegetable oil (palm, palm kernel oil), emulsriers 3% cthin (ins 305;\n",
      "Line: anim), cookies (12%) (wheat flour, 5193) vegatatie alm oil alka\n",
      "Line: powder (cows — “1 raising :\n",
      "Line: \n",
      "Line: cn vctier soy lecithin ins 322i); whole mik | | :\n",
      "Line: en ooo, bare “allergen in. mation\n",
      "Line: \n",
      "Line: “ins sii); cocoa mass; artificial flavor: vanillin|\n",
      "Line: ee wheat, may contain traces of almon: © and haz\n",
      "Line: \n",
      "Line: gula; minyak sayuran (kelapa sav *. bunga!\n",
      "Line: \n",
      "Line: i). pepeial sirap jagung, laktosa (susu lembu):): minyak sayuran . “ainyak k\n",
      "Line: pengemilsi besit soya (ins 322i), perisa sintetik: vanilin}, biskut | ° 2%) [te\n",
      "Line: sawit); serbuk koko beralkalt: pengemulsi: lesitin soya ( ins 322i), susu tep\n",
      "Line: s$ 500i); jisim koko: perisa tiruan: vanilin}. mengandung! pengemulsi can aq\n",
      "Line: | dibenarkan. aditif makanan adalah daripada sumber tumbuhan dan sintetik. |\n",
      "Line: \n",
      "Line: soya dan gandum. mungkin mengandungi sisa kacang bad\n",
      "Line: utih imitasi (88%) [gula, minyak nabati: susu skim bubuk, sirup jagung\n",
      "Line: sintetik vanila}; kukis (12%) [tepung gandum. gula; minyak nabati buc\n",
      "Line: ~ bikarbonat (ins 500i); kakao massa; perisa sintetik vanila) informa\n",
      "Line: an yang dicetak tebal. mungkin mengandung sisa kacanc\n",
      "Line: \n",
      "Line: informasi nilai gizi nut\n",
      "Line: takaran saji: 36g (8 by!) a 4q size!\n",
      "Line: 4 sajian per kemasan gg servi 49 aor p\n",
      "Line: jumlah per sajian ee\n",
      "Line: energi total\n",
      "Line: \n",
      "Line: y\n",
      "Line: \n",
      "Line: an: coklat konfeksi putih (88%) |\n",
      "Line: \n",
      "Line: 190kkai\n",
      "Line: ame average qua!\n",
      "Line: \n",
      "Line: purata kuanti\n",
      "Line: \n",
      "Line: lemak total\n",
      "Line: kolesterol omg 0%\n",
      "Line: \n",
      "Line: roduks! lemak jenuh 6g 29% energy / tena\n",
      "Line: , no. 1, protein 29g 4% 5\n",
      "Line: \n",
      "Line: karbohidrat total 24g 7% | protein\n",
      "Line: \n",
      "Line: gula | ona carbohydrate\n",
      "Line: \n",
      "Line: , ‘yo. fkan ke odium : natr\n",
      "Line: \n",
      "Line: ytuhan energi anda | spar-entage of\n",
      "Line: \n",
      "Line: energi 2150 kxal. mons\n",
      "Line: mungkin feb: caigg: atau lebih rendah. | peratusan nila!\n",
      "Line: \n",
      "Line: leh gra co: eee vee ong,\n",
      "Line: \n",
      "Line: taman perindustnan puchong\n",
      "Line: \n",
      "Line: ingapore: dksh singapore\n",
      "Line: \n",
      "Line: ore. indonesia: diimpor dan\n",
      "Line: putin raya kav. 1 ancol timur,\n",
      "Line: ores marketing international,\n",
      "Line: ity, 1115 philippines.\n",
      "Line: \n",
      "Line: 6 942856\n",
      "Line: \n",
      "Line: text, viber, of whatsapp)\n",
      "Line: \n",
      "Line: 70302?\n",
      "Line: \n"
     ]
    }
   ],
   "execution_count": 87
  },
  {
   "metadata": {
    "ExecuteTime": {
     "end_time": "2024-06-05T19:21:44.741497Z",
     "start_time": "2024-06-05T19:21:44.726494Z"
    }
   },
   "cell_type": "code",
   "source": [
    "keywords = ['protein']\n",
    "for line in lines:\n",
    "    print(\"Line:\", line)\n",
    "    for keyword in keywords:\n",
    "        if f\" {keyword} \" in line.lower():\n",
    "            print(\"Keyword:\", keyword)\n",
    "            match = re.search(r'(\\d{1,3}(?:,\\d{3})*)(?:\\.\\d+)?\\s*g\\b', line)\n",
    "            if match:\n",
    "                try:\n",
    "                    value = float(match.group(1).replace(',', ''))\n",
    "                    print(\"Extracted value:\", value)\n",
    "                except ValueError:\n",
    "                    print(\"Error: Unable to convert value to float\")\n"
   ],
   "id": "9ec71ea33d2ee57c",
   "outputs": [
    {
     "name": "stdout",
     "output_type": "stream",
     "text": [
      "Line: sunflower). skim milk pow de on een ae ie oe\n",
      "Line: vegetable oil (palm, palm kernel oil), emulsriers 3% cthin (ins 305;\n",
      "Line: anim), cookies (12%) (wheat flour, 5193) vegatatie alm oil alka\n",
      "Line: powder (cows — “1 raising :\n",
      "Line: \n",
      "Line: cn vctier soy lecithin ins 322i); whole mik | | :\n",
      "Line: en ooo, bare “allergen in. mation\n",
      "Line: \n",
      "Line: “ins sii); cocoa mass; artificial flavor: vanillin|\n",
      "Line: ee wheat, may contain traces of almon: © and haz\n",
      "Line: \n",
      "Line: gula; minyak sayuran (kelapa sav *. bunga!\n",
      "Line: \n",
      "Line: i). pepeial sirap jagung, laktosa (susu lembu):): minyak sayuran . “ainyak k\n",
      "Line: pengemilsi besit soya (ins 322i), perisa sintetik: vanilin}, biskut | ° 2%) [te\n",
      "Line: sawit); serbuk koko beralkalt: pengemulsi: lesitin soya ( ins 322i), susu tep\n",
      "Line: s$ 500i); jisim koko: perisa tiruan: vanilin}. mengandung! pengemulsi can aq\n",
      "Line: | dibenarkan. aditif makanan adalah daripada sumber tumbuhan dan sintetik. |\n",
      "Line: \n",
      "Line: soya dan gandum. mungkin mengandungi sisa kacang bad\n",
      "Line: utih imitasi (88%) [gula, minyak nabati: susu skim bubuk, sirup jagung\n",
      "Line: sintetik vanila}; kukis (12%) [tepung gandum. gula; minyak nabati buc\n",
      "Line: ~ bikarbonat (ins 500i); kakao massa; perisa sintetik vanila) informa\n",
      "Line: an yang dicetak tebal. mungkin mengandung sisa kacanc\n",
      "Line: \n",
      "Line: informasi nilai gizi nut\n",
      "Line: takaran saji: 36g (8 by!) a 4q size!\n",
      "Line: 4 sajian per kemasan gg servi 49 aor p\n",
      "Line: jumlah per sajian ee\n",
      "Line: energi total\n",
      "Line: \n",
      "Line: y\n",
      "Line: \n",
      "Line: an: coklat konfeksi putih (88%) |\n",
      "Line: \n",
      "Line: 190kkai\n",
      "Line: ame average qua!\n",
      "Line: \n",
      "Line: purata kuanti\n",
      "Line: \n",
      "Line: lemak total\n",
      "Line: kolesterol omg 0%\n",
      "Line: \n",
      "Line: roduks! lemak jenuh 6g 29% energy / tena\n",
      "Line: , no. 1, protein 29g 4% 5\n",
      "Keyword: protein\n",
      "Extracted value: 29.0\n",
      "Line: \n",
      "Line: karbohidrat total 24g 7% | protein\n",
      "Line: \n",
      "Line: gula | ona carbohydrate\n",
      "Line: \n",
      "Line: , ‘yo. fkan ke odium : natr\n",
      "Line: \n",
      "Line: ytuhan energi anda | spar-entage of\n",
      "Line: \n",
      "Line: energi 2150 kxal. mons\n",
      "Line: mungkin feb: caigg: atau lebih rendah. | peratusan nila!\n",
      "Line: \n",
      "Line: leh gra co: eee vee ong,\n",
      "Line: \n",
      "Line: taman perindustnan puchong\n",
      "Line: \n",
      "Line: ingapore: dksh singapore\n",
      "Line: \n",
      "Line: ore. indonesia: diimpor dan\n",
      "Line: putin raya kav. 1 ancol timur,\n",
      "Line: ores marketing international,\n",
      "Line: ity, 1115 philippines.\n",
      "Line: \n",
      "Line: 6 942856\n",
      "Line: \n",
      "Line: text, viber, of whatsapp)\n",
      "Line: \n",
      "Line: 70302?\n",
      "Line: \n"
     ]
    }
   ],
   "execution_count": 88
  },
  {
   "metadata": {
    "ExecuteTime": {
     "end_time": "2024-06-05T19:21:44.757488Z",
     "start_time": "2024-06-05T19:21:44.742497Z"
    }
   },
   "cell_type": "code",
   "source": [
    "#takaran saji\n",
    "match = re.search(r'\\b(\\d{1,3}(?:,\\d{3})*)(?:\\.\\d+)?\\s*g\\b', line)"
   ],
   "id": "cd7798e3337f6676",
   "outputs": [],
   "execution_count": 89
  },
  {
   "metadata": {
    "ExecuteTime": {
     "end_time": "2024-06-05T19:22:24.648718Z",
     "start_time": "2024-06-05T19:22:24.631981Z"
    }
   },
   "cell_type": "code",
   "source": [
    "keywords = ['takaran saji']\n",
    "for line in lines:\n",
    "    print(\"Line:\", line)\n",
    "    for keyword in keywords:\n",
    "        if f\" {keyword} \" in line.lower():\n",
    "            print(\"Keyword:\", keyword)\n",
    "            matches = re.findall(r'\\b(\\d{1,3}(?:,\\d{3})*)(?:\\.\\d+)?\\s*g\\b', line)\n",
    "            if match:\n",
    "                try:\n",
    "                    value = float(match.group(1).replace(',', ''))\n",
    "                    print(\"Extracted value:\", value)\n",
    "                except ValueError:\n",
    "                    print(\"Error: Unable to convert value to float\")\n"
   ],
   "id": "f5b1646f70488dc8",
   "outputs": [
    {
     "name": "stdout",
     "output_type": "stream",
     "text": [
      "Line: sunflower). skim milk pow de on een ae ie oe\n",
      "Line: vegetable oil (palm, palm kernel oil), emulsriers 3% cthin (ins 305;\n",
      "Line: anim), cookies (12%) (wheat flour, 5193) vegatatie alm oil alka\n",
      "Line: powder (cows — “1 raising :\n",
      "Line: \n",
      "Line: cn vctier soy lecithin ins 322i); whole mik | | :\n",
      "Line: en ooo, bare “allergen in. mation\n",
      "Line: \n",
      "Line: “ins sii); cocoa mass; artificial flavor: vanillin|\n",
      "Line: ee wheat, may contain traces of almon: © and haz\n",
      "Line: \n",
      "Line: gula; minyak sayuran (kelapa sav *. bunga!\n",
      "Line: \n",
      "Line: i). pepeial sirap jagung, laktosa (susu lembu):): minyak sayuran . “ainyak k\n",
      "Line: pengemilsi besit soya (ins 322i), perisa sintetik: vanilin}, biskut | ° 2%) [te\n",
      "Line: sawit); serbuk koko beralkalt: pengemulsi: lesitin soya ( ins 322i), susu tep\n",
      "Line: s$ 500i); jisim koko: perisa tiruan: vanilin}. mengandung! pengemulsi can aq\n",
      "Line: | dibenarkan. aditif makanan adalah daripada sumber tumbuhan dan sintetik. |\n",
      "Line: \n",
      "Line: soya dan gandum. mungkin mengandungi sisa kacang bad\n",
      "Line: utih imitasi (88%) [gula, minyak nabati: susu skim bubuk, sirup jagung\n",
      "Line: sintetik vanila}; kukis (12%) [tepung gandum. gula; minyak nabati buc\n",
      "Line: ~ bikarbonat (ins 500i); kakao massa; perisa sintetik vanila) informa\n",
      "Line: an yang dicetak tebal. mungkin mengandung sisa kacanc\n",
      "Line: \n",
      "Line: informasi nilai gizi nut\n",
      "Line: takaran saji: 36g (8 by!) a 4q size!\n",
      "Line: 4 sajian per kemasan gg servi 49 aor p\n",
      "Line: jumlah per sajian ee\n",
      "Line: energi total\n",
      "Line: \n",
      "Line: y\n",
      "Line: \n",
      "Line: an: coklat konfeksi putih (88%) |\n",
      "Line: \n",
      "Line: 190kkai\n",
      "Line: ame average qua!\n",
      "Line: \n",
      "Line: purata kuanti\n",
      "Line: \n",
      "Line: lemak total\n",
      "Line: kolesterol omg 0%\n",
      "Line: \n",
      "Line: roduks! lemak jenuh 6g 29% energy / tena\n",
      "Line: , no. 1, protein 29g 4% 5\n",
      "Line: \n",
      "Line: karbohidrat total 24g 7% | protein\n",
      "Line: \n",
      "Line: gula | ona carbohydrate\n",
      "Line: \n",
      "Line: , ‘yo. fkan ke odium : natr\n",
      "Line: \n",
      "Line: ytuhan energi anda | spar-entage of\n",
      "Line: \n",
      "Line: energi 2150 kxal. mons\n",
      "Line: mungkin feb: caigg: atau lebih rendah. | peratusan nila!\n",
      "Line: \n",
      "Line: leh gra co: eee vee ong,\n",
      "Line: \n",
      "Line: taman perindustnan puchong\n",
      "Line: \n",
      "Line: ingapore: dksh singapore\n",
      "Line: \n",
      "Line: ore. indonesia: diimpor dan\n",
      "Line: putin raya kav. 1 ancol timur,\n",
      "Line: ores marketing international,\n",
      "Line: ity, 1115 philippines.\n",
      "Line: \n",
      "Line: 6 942856\n",
      "Line: \n",
      "Line: text, viber, of whatsapp)\n",
      "Line: \n",
      "Line: 70302?\n",
      "Line: \n"
     ]
    }
   ],
   "execution_count": 92
  },
  {
   "metadata": {},
   "cell_type": "code",
   "outputs": [],
   "execution_count": null,
   "source": "",
   "id": "6451a61bb2b01a32"
  }
 ],
 "metadata": {
  "kernelspec": {
   "display_name": "Python 3",
   "language": "python",
   "name": "python3"
  },
  "language_info": {
   "codemirror_mode": {
    "name": "ipython",
    "version": 2
   },
   "file_extension": ".py",
   "mimetype": "text/x-python",
   "name": "python",
   "nbconvert_exporter": "python",
   "pygments_lexer": "ipython2",
   "version": "2.7.6"
  }
 },
 "nbformat": 4,
 "nbformat_minor": 5
}
