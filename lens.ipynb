{
 "cells": [
  {
   "cell_type": "code",
   "execution_count": 296,
   "metadata": {},
   "outputs": [],
   "source": [
    "from PIL import Image\n",
    "import pytesseract\n",
    "import cv2 \n",
    "import re\n",
    "\n",
    "pytesseract.pytesseract.tesseract_cmd = r'D:\\App\\Tesseract-OCR\\tesseract.exe' "
   ]
  },
  {
   "cell_type": "code",
   "execution_count": 297,
   "metadata": {},
   "outputs": [
    {
     "name": "stdout",
     "output_type": "stream",
     "text": [
      "721\n"
     ]
    }
   ],
   "source": [
    "image = cv2.imread('image/IMG-20240528-WA0020.jpg')\n",
    "\n",
    "gray = cv2.cvtColor(image, cv2.COLOR_BGR2GRAY)\n",
    "\n",
    "denoised = cv2.medianBlur(gray, 5)\n",
    "\n",
    "_, thresh = cv2.threshold(denoised, 0, 255, cv2.THRESH_BINARY + cv2.THRESH_OTSU)\n",
    "\n",
    "pil_image = Image.fromarray(thresh)\n",
    "\n",
    "text = pytesseract.image_to_string(pil_image).lower()\n",
    "print(len(text))"
   ]
  },
  {
   "cell_type": "code",
   "execution_count": 298,
   "metadata": {},
   "outputs": [],
   "source": [
    "def find_value(text,  keyword):\n",
    "    lines = text.split('\\n')\n",
    "    for i, line in enumerate(lines):\n",
    "        if keyword in line.lower():\n",
    "            match = re.search(r'[\\d,]+\\.?\\d*', line)\n",
    "            if match:\n",
    "                return match.group().replace(',', '.')\n",
    "            elif i + 1 < len(lines):\n",
    "                next_line = lines[i + 1]\n",
    "                match = re.search(r'[\\d,]+\\.?\\d*', next_line)\n",
    "                if match:\n",
    "                    return float(match.group().replace(',', '.'))\n",
    "            break\n",
    "    return 0"
   ]
  },
  {
   "cell_type": "code",
   "execution_count": 299,
   "metadata": {},
   "outputs": [
    {
     "name": "stdout",
     "output_type": "stream",
     "text": [
      "Jumlah Per Sajian : 169 \n",
      "Energi : 80 \n",
      "Protein : 1 \n",
      "Lemak : 35 \n",
      "Karbohidrat : 0 \n",
      "Serat : 1.0 \n",
      "Natrium : 30.0\n"
     ]
    }
   ],
   "source": [
    "sajian = find_value(text, 'takaran' or 'kemasan')\n",
    "energy_value = find_value(text, 'energi')\n",
    "protein_value = find_value(text, 'protein')\n",
    "lemak_value = find_value(text, 'lemak total')\n",
    "karbohidrat_value = find_value(text, 'karbohidrat' or 'carbohydrat')\n",
    "serat_value = find_value(text, 'serat' or 'fiber')\n",
    "natrium_value = find_value(text, 'natrium' or 'garam')\n",
    "\n",
    "print('Jumlah Per Sajian :', sajian, \"\\nEnergi :\", energy_value, \"\\n\"\"Protein :\", protein_value, \"\\n\"\"Lemak :\", lemak_value, \"\\n\"\"Karbohidrat :\", karbohidrat_value, \"\\n\"\"Serat :\", serat_value, \"\\n\"\"Natrium :\", natrium_value)"
   ]
  }
 ],
 "metadata": {
  "kernelspec": {
   "display_name": "Python 3",
   "language": "python",
   "name": "python3"
  },
  "language_info": {
   "codemirror_mode": {
    "name": "ipython",
    "version": 3
   },
   "file_extension": ".py",
   "mimetype": "text/x-python",
   "name": "python",
   "nbconvert_exporter": "python",
   "pygments_lexer": "ipython3",
   "version": "3.10.9"
  }
 },
 "nbformat": 4,
 "nbformat_minor": 2
}
