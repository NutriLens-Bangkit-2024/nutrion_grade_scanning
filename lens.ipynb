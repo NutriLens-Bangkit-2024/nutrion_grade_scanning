{
 "cells": [
  {
   "cell_type": "code",
   "execution_count": 1,
   "metadata": {},
   "outputs": [],
   "source": [
    "from PIL import Image\n",
    "import pytesseract\n",
    "import numpy as np\n",
    "import cv2 \n",
    "import re\n",
    "import os\n",
    "\n",
    "# Point pytesseract to where the Tesseract executable is located\n",
    "pytesseract.pytesseract.tesseract_cmd = r'D:\\App\\Tesseract-OCR\\tesseract.exe' "
   ]
  },
  {
   "cell_type": "code",
   "execution_count": 2,
   "metadata": {},
   "outputs": [],
   "source": [
    "image = Image.open('image/IMG-20240528-WA0014.jpg')\n",
    "image = image.convert('L')\n",
    "\n",
    "threshold = 128 \n",
    "image = image.point(lambda p: p > threshold and 255)\n",
    "\n",
    "\n",
    "text = pytesseract.image_to_string(image).lower()"
   ]
  },
  {
   "cell_type": "code",
   "execution_count": 3,
   "metadata": {},
   "outputs": [],
   "source": [
    "with open(\"text.txt\", \"w\") as file:\n",
    "    file.write(text)\n",
    "    \n",
    "with open(\"text.txt\", mode=\"r\") as file:\n",
    "    text = file.read()"
   ]
  },
  {
   "cell_type": "code",
   "execution_count": 4,
   "metadata": {},
   "outputs": [],
   "source": [
    "def find_energi_value(text):\n",
    "    lines = text.split('\\n')\n",
    "    for line in lines:\n",
    "        if 'energi' in line.lower():  \n",
    "            match = re.search(r'[\\d,]+\\.?\\d*', line)\n",
    "            if match:\n",
    "                return match.group()\n",
    "    return 0\n",
    "\n"
   ]
  },
  {
   "cell_type": "code",
   "execution_count": 5,
   "metadata": {},
   "outputs": [],
   "source": [
    "def find_protein_value(text):\n",
    "    lines = text.split('\\n')\n",
    "    for line in lines:\n",
    "        if 'protein' in line.lower():  \n",
    "            match = re.search(r'[\\d,]+\\.?\\d*', line)\n",
    "            if match:\n",
    "                return match.group()\n",
    "    return 0"
   ]
  },
  {
   "cell_type": "code",
   "execution_count": 6,
   "metadata": {},
   "outputs": [],
   "source": [
    "def find_lemak_value(text):\n",
    "    lines = text.split('\\n')\n",
    "    for line in lines:\n",
    "        if 'lemak total' in line.lower():  \n",
    "            match = re.search(r'[\\d,]+\\.?\\d*', line)\n",
    "            if match:\n",
    "                return match.group()\n",
    "    return 0"
   ]
  },
  {
   "cell_type": "code",
   "execution_count": 7,
   "metadata": {},
   "outputs": [],
   "source": [
    "def find_karbohidrat_value(text):\n",
    "    lines = text.split('\\n')\n",
    "    for line in lines:\n",
    "        if 'karbohidrat' in line.lower():  \n",
    "            match = re.search(r'[\\d,]+\\.?\\d*', line)\n",
    "            if match:\n",
    "                return match.group()\n",
    "    return 0"
   ]
  },
  {
   "cell_type": "code",
   "execution_count": 8,
   "metadata": {},
   "outputs": [],
   "source": [
    "def find_serat_value(text):\n",
    "    lines = text.split('\\n')\n",
    "    for line in lines:\n",
    "        if 'serat' in line.lower():  \n",
    "            match = re.search(r'[\\d,]+\\.?\\d*', line)\n",
    "            if match:\n",
    "                return match.group()\n",
    "    return 0"
   ]
  },
  {
   "cell_type": "code",
   "execution_count": 9,
   "metadata": {},
   "outputs": [],
   "source": [
    "def find_natrium_value(text):\n",
    "    lines = text.split('\\n')\n",
    "    for line in lines:\n",
    "        if 'natrium' in line.lower():  \n",
    "            match = re.search(r'[\\d,]+\\.?\\d*', line)\n",
    "            if match:\n",
    "                return match.group()\n",
    "    return 0"
   ]
  },
  {
   "cell_type": "code",
   "execution_count": 10,
   "metadata": {},
   "outputs": [
    {
     "name": "stdout",
     "output_type": "stream",
     "text": [
      "Energi : 60 \n",
      "Protein : 1 \n",
      "Lemak : 2,5 \n",
      "Karbohidrat : 8 \n",
      "Serat : 1 \n",
      "Natrium : 85\n"
     ]
    }
   ],
   "source": [
    "energy_value = find_energi_value(text)\n",
    "protein_value = find_protein_value(text)\n",
    "lemak_value = find_lemak_value(text)\n",
    "karbohidrat_value = find_karbohidrat_value(text)\n",
    "serat_value = find_serat_value(text)\n",
    "natrium_value = find_natrium_value(text)\n",
    "print(\"Energi :\", energy_value, \"\\n\"\"Protein :\", protein_value, \"\\n\"\"Lemak :\", lemak_value, \"\\n\"\"Karbohidrat :\", karbohidrat_value, \"\\n\"\"Serat :\", serat_value, \"\\n\"\"Natrium :\", natrium_value)"
   ]
  },
  {
   "cell_type": "code",
   "execution_count": 11,
   "metadata": {},
   "outputs": [],
   "source": [
    "if os.path.exists(\"text.txt\"):\n",
    "    os.remove(\"text.txt\")"
   ]
  }
 ],
 "metadata": {
  "kernelspec": {
   "display_name": "Python 3",
   "language": "python",
   "name": "python3"
  },
  "language_info": {
   "codemirror_mode": {
    "name": "ipython",
    "version": 3
   },
   "file_extension": ".py",
   "mimetype": "text/x-python",
   "name": "python",
   "nbconvert_exporter": "python",
   "pygments_lexer": "ipython3",
   "version": "3.10.9"
  }
 },
 "nbformat": 4,
 "nbformat_minor": 2
}
