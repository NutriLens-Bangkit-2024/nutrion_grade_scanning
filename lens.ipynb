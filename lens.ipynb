{
 "cells": [
  {
   "cell_type": "code",
   "execution_count": 7,
   "metadata": {},
   "outputs": [],
   "source": [
    "from PIL import Image\n",
    "import pytesseract\n",
    "import cv2 \n",
    "import re\n",
    "\n",
    "pytesseract.pytesseract.tesseract_cmd = r'D:\\App\\Tesseract-OCR\\tesseract.exe' "
   ]
  },
  {
   "cell_type": "code",
   "execution_count": 8,
   "metadata": {},
   "outputs": [],
   "source": [
    "image = cv2.imread('image/IMG-20240528-WA0020.jpg')\n",
    "\n",
    "gray = cv2.cvtColor(image, cv2.COLOR_BGR2GRAY)\n",
    "\n",
    "denoised = cv2.medianBlur(gray, 5)\n",
    "\n",
    "_, thresh = cv2.threshold(denoised, 0, 255, cv2.THRESH_BINARY + cv2.THRESH_OTSU)\n",
    "\n",
    "pil_image = Image.fromarray(thresh)\n",
    "\n",
    "text = pytesseract.image_to_string(pil_image).lower()"
   ]
  },
  {
   "cell_type": "code",
   "execution_count": 9,
   "metadata": {},
   "outputs": [],
   "source": [
    "with open('text.txt', 'w') as f:\n",
    "    f.write(text)\n",
    "    f.close()"
   ]
  },
  {
   "cell_type": "code",
   "execution_count": 10,
   "metadata": {},
   "outputs": [],
   "source": [
    "# def find_sajian(text):\n",
    "#     lines = text.split('\\n')\n",
    "#     for line in lines:\n",
    "#         if 'sajian' in line:\n",
    "#             match = re.search(r'(\\d+(\\.\\d+)?)\\s*(?:serving|sajian)', line)\n",
    "#             if match:\n",
    "#                 return match.group()\n",
    "#     return 1\n",
    "\n",
    "\n",
    "def find_sajian(text, keyword):\n",
    "    lines = text.split('\\n')\n",
    "    for line in lines:\n",
    "        if keyword in line.lower():\n",
    "            match = re.search(r'(\\d+(\\.\\d+)?)\\s*(?:serving|sajian)', line)\n",
    "            if match:\n",
    "                return float(match.group(2))\n",
    "    return 1"
   ]
  },
  {
   "cell_type": "code",
   "execution_count": 11,
   "metadata": {},
   "outputs": [],
   "source": [
    "def find_value(text,  keyword):\n",
    "    lines = text.split('\\n')\n",
    "    for i, line in enumerate(lines):\n",
    "        if keyword in line.lower():\n",
    "            match = re.search(r'[\\d,]+\\.?\\d*', line)\n",
    "            if match:\n",
    "                return float(match.group().replace(',', '.'))\n",
    "            elif i + 1 < len(lines):\n",
    "                next_line = lines[i + 1]\n",
    "                match = re.search(r'[\\d,]+\\.?\\d*', next_line)\n",
    "                if match:\n",
    "                    return float(match.group().replace(',', '.'))\n",
    "            break\n",
    "    return 0"
   ]
  },
  {
   "cell_type": "code",
   "execution_count": 12,
   "metadata": {},
   "outputs": [
    {
     "ename": "TypeError",
     "evalue": "float() argument must be a string or a real number, not 'NoneType'",
     "output_type": "error",
     "traceback": [
      "\u001b[1;31m---------------------------------------------------------------------------\u001b[0m",
      "\u001b[1;31mTypeError\u001b[0m                                 Traceback (most recent call last)",
      "Cell \u001b[1;32mIn[12], line 1\u001b[0m\n\u001b[1;32m----> 1\u001b[0m sajian \u001b[38;5;241m=\u001b[39m \u001b[43mfind_sajian\u001b[49m\u001b[43m(\u001b[49m\u001b[43mtext\u001b[49m\u001b[43m,\u001b[49m\u001b[43m \u001b[49m\u001b[38;5;124;43m\"\u001b[39;49m\u001b[38;5;124;43mserving\u001b[39;49m\u001b[38;5;124;43m\"\u001b[39;49m\u001b[43m \u001b[49m\u001b[38;5;129;43;01mor\u001b[39;49;00m\u001b[43m \u001b[49m\u001b[38;5;124;43m'\u001b[39;49m\u001b[38;5;124;43msajian\u001b[39;49m\u001b[38;5;124;43m'\u001b[39;49m\u001b[43m)\u001b[49m\n\u001b[0;32m      2\u001b[0m energy_value \u001b[38;5;241m=\u001b[39m find_value(text, \u001b[38;5;124m'\u001b[39m\u001b[38;5;124menergi\u001b[39m\u001b[38;5;124m'\u001b[39m)\n\u001b[0;32m      3\u001b[0m protein_value \u001b[38;5;241m=\u001b[39m find_value(text, \u001b[38;5;124m'\u001b[39m\u001b[38;5;124mprotein\u001b[39m\u001b[38;5;124m'\u001b[39m)\n",
      "Cell \u001b[1;32mIn[10], line 17\u001b[0m, in \u001b[0;36mfind_sajian\u001b[1;34m(text, keyword)\u001b[0m\n\u001b[0;32m     15\u001b[0m         match \u001b[38;5;241m=\u001b[39m re\u001b[38;5;241m.\u001b[39msearch(\u001b[38;5;124mr\u001b[39m\u001b[38;5;124m'\u001b[39m\u001b[38;5;124m(\u001b[39m\u001b[38;5;124m\\\u001b[39m\u001b[38;5;124md+(\u001b[39m\u001b[38;5;124m\\\u001b[39m\u001b[38;5;124m.\u001b[39m\u001b[38;5;124m\\\u001b[39m\u001b[38;5;124md+)?)\u001b[39m\u001b[38;5;124m\\\u001b[39m\u001b[38;5;124ms*(?:serving|sajian)\u001b[39m\u001b[38;5;124m'\u001b[39m, line)\n\u001b[0;32m     16\u001b[0m         \u001b[38;5;28;01mif\u001b[39;00m match:\n\u001b[1;32m---> 17\u001b[0m             \u001b[38;5;28;01mreturn\u001b[39;00m \u001b[38;5;28;43mfloat\u001b[39;49m\u001b[43m(\u001b[49m\u001b[43mmatch\u001b[49m\u001b[38;5;241;43m.\u001b[39;49m\u001b[43mgroup\u001b[49m\u001b[43m(\u001b[49m\u001b[38;5;241;43m2\u001b[39;49m\u001b[43m)\u001b[49m\u001b[43m)\u001b[49m\n\u001b[0;32m     18\u001b[0m \u001b[38;5;28;01mreturn\u001b[39;00m \u001b[38;5;241m1\u001b[39m\n",
      "\u001b[1;31mTypeError\u001b[0m: float() argument must be a string or a real number, not 'NoneType'"
     ]
    }
   ],
   "source": [
    "sajian = find_sajian(text, \"serving\" or 'sajian')\n",
    "energy_value = find_value(text, 'energi')\n",
    "protein_value = find_value(text, 'protein')\n",
    "lemak_value = find_value(text, 'lemak total')\n",
    "karbohidrat_value = find_value(text, 'karbohidrat' or 'carbohydrat')\n",
    "serat_value = find_value(text, 'serat' or 'fiber')\n",
    "natrium_value = find_value(text, 'natrium' or 'garam')\n",
    "\n",
    "print('Jumlah Per Sajian :', sajian, \"\\nEnergi :\", energy_value, \"\\n\"\"Protein :\", protein_value, \"\\n\"\"Lemak :\", lemak_value, \"\\n\"\"Karbohidrat :\", karbohidrat_value, \"\\n\"\"Serat :\", serat_value, \"\\n\"\"Natrium :\", natrium_value)"
   ]
  }
 ],
 "metadata": {
  "kernelspec": {
   "display_name": "Python 3",
   "language": "python",
   "name": "python3"
  },
  "language_info": {
   "codemirror_mode": {
    "name": "ipython",
    "version": 3
   },
   "file_extension": ".py",
   "mimetype": "text/x-python",
   "name": "python",
   "nbconvert_exporter": "python",
   "pygments_lexer": "ipython3",
   "version": "3.10.9"
  }
 },
 "nbformat": 4,
 "nbformat_minor": 2
}
