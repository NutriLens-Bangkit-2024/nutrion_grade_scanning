{
 "cells": [
  {
   "cell_type": "code",
   "execution_count": 303,
   "metadata": {},
   "outputs": [],
   "source": [
    "import cv2\n",
    "from paddleocr import PPStructure\n",
    "from bs4 import BeautifulSoup\n",
    "import re"
   ]
  },
  {
   "cell_type": "code",
   "execution_count": 304,
   "metadata": {},
   "outputs": [
    {
     "name": "stdout",
     "output_type": "stream",
     "text": [
      "[2024/06/09 18:37:54] ppocr DEBUG: Namespace(help='==SUPPRESS==', use_gpu=False, use_xpu=False, use_npu=False, ir_optim=True, use_tensorrt=False, min_subgraph_size=15, precision='fp32', gpu_mem=500, gpu_id=0, image_dir=None, page_num=0, det_algorithm='DB', det_model_dir='C:\\\\Users\\\\ASUS/.paddleocr/whl\\\\det\\\\ch\\\\ch_PP-OCRv4_det_infer', det_limit_side_len=960, det_limit_type='max', det_box_type='quad', det_db_thresh=0.3, det_db_box_thresh=0.6, det_db_unclip_ratio=1.5, max_batch_size=10, use_dilation=False, det_db_score_mode='fast', det_east_score_thresh=0.8, det_east_cover_thresh=0.1, det_east_nms_thresh=0.2, det_sast_score_thresh=0.5, det_sast_nms_thresh=0.2, det_pse_thresh=0, det_pse_box_thresh=0.85, det_pse_min_area=16, det_pse_scale=1, scales=[8, 16, 32], alpha=1.0, beta=1.0, fourier_degree=5, rec_algorithm='SVTR_LCNet', rec_model_dir='C:\\\\Users\\\\ASUS/.paddleocr/whl\\\\rec\\\\ch\\\\ch_PP-OCRv4_rec_infer', rec_image_inverse=True, rec_image_shape='3, 48, 320', rec_batch_num=6, max_text_length=25, rec_char_dict_path='C:\\\\Users\\\\ASUS\\\\AppData\\\\Roaming\\\\Python\\\\Python310\\\\site-packages\\\\paddleocr\\\\ppocr\\\\utils\\\\ppocr_keys_v1.txt', use_space_char=True, vis_font_path='./doc/fonts/simfang.ttf', drop_score=0.5, e2e_algorithm='PGNet', e2e_model_dir=None, e2e_limit_side_len=768, e2e_limit_type='max', e2e_pgnet_score_thresh=0.5, e2e_char_dict_path='./ppocr/utils/ic15_dict.txt', e2e_pgnet_valid_set='totaltext', e2e_pgnet_mode='fast', use_angle_cls=False, cls_model_dir=None, cls_image_shape='3, 48, 192', label_list=['0', '180'], cls_batch_num=6, cls_thresh=0.9, enable_mkldnn=False, cpu_threads=10, use_pdserving=False, warmup=False, sr_model_dir=None, sr_image_shape='3, 32, 128', sr_batch_num=1, draw_img_save_dir='./inference_results', save_crop_res=False, crop_res_save_dir='./output', use_mp=False, total_process_num=1, process_id=0, benchmark=False, save_log_path='./log_output/', show_log=True, use_onnx=False, output='./output', table_max_len=488, table_algorithm='TableAttn', table_model_dir='C:\\\\Users\\\\ASUS/.paddleocr/whl\\\\table\\\\ch_ppstructure_mobile_v2.0_SLANet_infer', merge_no_span_structure=True, table_char_dict_path='C:\\\\Users\\\\ASUS\\\\AppData\\\\Roaming\\\\Python\\\\Python310\\\\site-packages\\\\paddleocr\\\\ppocr\\\\utils\\\\dict\\\\table_structure_dict_ch.txt', layout_model_dir='C:\\\\Users\\\\ASUS/.paddleocr/whl\\\\layout\\\\picodet_lcnet_x1_0_fgd_layout_cdla_infer', layout_dict_path='C:\\\\Users\\\\ASUS\\\\AppData\\\\Roaming\\\\Python\\\\Python310\\\\site-packages\\\\paddleocr\\\\ppocr\\\\utils\\\\dict\\\\layout_dict\\\\layout_cdla_dict.txt', layout_score_threshold=0.5, layout_nms_threshold=0.5, kie_algorithm='LayoutXLM', ser_model_dir=None, re_model_dir=None, use_visual_backbone=True, ser_dict_path='../train_data/XFUND/class_list_xfun.txt', ocr_order_method=None, mode='structure', image_orientation=False, layout=False, table=True, ocr=True, recovery=False, use_pdf2docx_api=False, invert=False, binarize=False, alphacolor=(255, 255, 255), lang='ch', det=True, rec=True, type='ocr', ocr_version='PP-OCRv4', structure_version='PP-StructureV2')\n",
      "[2024/06/09 18:37:54] ppocr WARNING: When args.layout is false, args.ocr is automatically set to false\n",
      "[2024/06/09 18:37:58] ppocr DEBUG: dt_boxes num : 41, elapse : 0.16254234313964844\n",
      "[2024/06/09 18:37:59] ppocr DEBUG: rec_res num  : 41, elapse : 1.1126809120178223\n"
     ]
    }
   ],
   "source": [
    "img_path= \"image/IMG-20240528-WA0020.jpg\"\n",
    "\n",
    "table_engine = PPStructure(layout=False, show_log=True, ocr=True)\n",
    "img = cv2.imread(img_path)\n",
    "result = table_engine(img)\n",
    "\n",
    "# result[0]['res']['html']"
   ]
  },
  {
   "cell_type": "code",
   "execution_count": 305,
   "metadata": {},
   "outputs": [
    {
     "name": "stdout",
     "output_type": "stream",
     "text": [
      "bpom ri #\n",
      "一\n",
      "\n",
      "informasi nilai gizi\n",
      "nutrition facts\n",
      "takarani saj/serving size : 16g 2 sajan per kemasan/ 2 serving per packing\n",
      "jumlah per sajian/ amount per serving\n",
      "energitotal/total energy:80kkal energi dari lemak/\n",
      "energyfromfat:35kkal\n",
      "%akg* lemak total /total fat 3.5g 6%\n",
      "lemak jenuh/ saturated fat 3.5g17%\n",
      "protein/ protein 1g2% karbohidrat total/ total carbohydrate 11g 3%\n",
      "serat pangan/\n",
      "dietary fiber 1g3% gula/sugar 5g\n",
      "garam (natrium)/ 30mg 2%\n",
      "salt (sodium) *persen akg berdasarkan kebutuhan\n",
      "energi2150 kkal.kebutuhan energi anda mungkin lebih tinggi atau lebih\n",
      "rendah. percent daily values are based on a\n",
      "2150kcaldtourdalyvaluemay be higher or lower depending on your\n",
      "calorie needs.\n",
      "\n",
      "8\n",
      "\n",
      "o\n",
      "\n"
     ]
    }
   ],
   "source": [
    "# convert html to text pake beautifulsoup\n",
    "soup = BeautifulSoup(result[0]['res']['html'], 'html.parser')\n",
    "td_elements = soup.find_all('td')\n",
    "\n",
    "extracted_text = [td.get_text(strip=True) for td in td_elements]\n",
    "\n",
    "text = \"\\n\".join(extracted_text).lower()\n",
    "print(text)\n"
   ]
  },
  {
   "cell_type": "code",
   "execution_count": 306,
   "metadata": {},
   "outputs": [],
   "source": [
    "def cleaning_text(text):\n",
    "    # buat new line setiap ada '%' \n",
    "    text = re.sub(r'%', '%\\n', text)\n",
    "    #replace '9' with 'g' kalo setelahnya space atau end of line\n",
    "    text = re.sub(r'(?<=\\d)9(?=\\s|$)', 'g', text)\n",
    "    return text"
   ]
  },
  {
   "cell_type": "code",
   "execution_count": 307,
   "metadata": {},
   "outputs": [
    {
     "name": "stdout",
     "output_type": "stream",
     "text": [
      "bpom ri #\n",
      "一\n",
      "\n",
      "informasi nilai gizi\n",
      "nutrition facts\n",
      "takarani saj/serving size : 16g 2 sajan per kemasan/ 2 serving per packing\n",
      "jumlah per sajian/ amount per serving\n",
      "energitotal/total energy:80kkal energi dari lemak/\n",
      "energyfromfat:35kkal\n",
      "%\n",
      "akg* lemak total /total fat 3.5g 6%\n",
      "\n",
      "lemak jenuh/ saturated fat 3.5g17%\n",
      "\n",
      "protein/ protein 1g2%\n",
      " karbohidrat total/ total carbohydrate 11g 3%\n",
      "\n",
      "serat pangan/\n",
      "dietary fiber 1g3%\n",
      " gula/sugar 5g\n",
      "garam (natrium)/ 30mg 2%\n",
      "\n",
      "salt (sodium) *persen akg berdasarkan kebutuhan\n",
      "energi2150 kkal.kebutuhan energi anda mungkin lebih tinggi atau lebih\n",
      "rendah. percent daily values are based on a\n",
      "2150kcaldtourdalyvaluemay be higher or lower depending on your\n",
      "calorie needs.\n",
      "\n",
      "8\n",
      "\n",
      "o\n",
      "\n"
     ]
    }
   ],
   "source": [
    "cleaned_text = cleaning_text(text)\n",
    "print(cleaned_text)"
   ]
  },
  {
   "cell_type": "code",
   "execution_count": 308,
   "metadata": {},
   "outputs": [],
   "source": [
    "def find_value(text,  keyword):\n",
    "    lines = text.split('\\n')\n",
    "    for i, line in enumerate(lines):\n",
    "        if keyword in line.lower():\n",
    "            pattern = rf\"({keyword}.*?)(\\d+(?:\\.\\d+)?)\"\n",
    "            match = re.search(pattern, text, re.DOTALL)\n",
    "            if match:\n",
    "                return float(match.group(2))\n",
    "    return float(0)"
   ]
  },
  {
   "cell_type": "code",
   "execution_count": 309,
   "metadata": {},
   "outputs": [
    {
     "name": "stdout",
     "output_type": "stream",
     "text": [
      "Jumlah Per Sajian : 16.0 \n",
      "Energi : 80.0 \n",
      "Protein : 1.0 \n",
      "Lemak : 3.5 \n",
      "Karbohidrat : 11.0 \n",
      "Serat : 1.0 \n",
      "Natrium : 30.0\n"
     ]
    }
   ],
   "source": [
    "sajian = find_value(text, 'serving')\n",
    "energy_value = find_value(cleaned_text, 'energi')\n",
    "protein_value = find_value(cleaned_text, 'protein')\n",
    "lemak_value = find_value(cleaned_text, 'lemak total')\n",
    "karbohidrat_value = find_value(cleaned_text, 'karbohidrat')\n",
    "serat_value = find_value(cleaned_text, 'serat')\n",
    "natrium_value = find_value(cleaned_text, 'natrium')\n",
    "\n",
    "print('Jumlah Per Sajian :', sajian, \"\\nEnergi :\", energy_value, \"\\n\"\"Protein :\", protein_value, \"\\n\"\"Lemak :\", lemak_value, \"\\n\"\"Karbohidrat :\", karbohidrat_value, \"\\n\"\"Serat :\", serat_value, \"\\n\"\"Natrium :\", natrium_value)\n",
    "\n",
    "# print(\"Energi :\", energy_value, \"\\n\"\"Protein :\", protein_value, \"\\n\"\"Lemak :\", lemak_value, \"\\n\"\"Karbohidrat :\", karbohidrat_value, \"\\n\"\"Serat :\", serat_value, \"\\n\"\"Natrium :\", natrium_value)"
   ]
  }
 ],
 "metadata": {
  "kernelspec": {
   "display_name": "Python 3",
   "language": "python",
   "name": "python3"
  },
  "language_info": {
   "codemirror_mode": {
    "name": "ipython",
    "version": 3
   },
   "file_extension": ".py",
   "mimetype": "text/x-python",
   "name": "python",
   "nbconvert_exporter": "python",
   "pygments_lexer": "ipython3",
   "version": "3.10.9"
  }
 },
 "nbformat": 4,
 "nbformat_minor": 2
}
