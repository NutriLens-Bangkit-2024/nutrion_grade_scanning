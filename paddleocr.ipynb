{
 "cells": [
  {
   "cell_type": "code",
   "metadata": {
    "ExecuteTime": {
     "end_time": "2024-06-09T14:11:22.720809Z",
     "start_time": "2024-06-09T14:11:21.756407Z"
    }
   },
   "source": [
    "import cv2\n",
    "from paddleocr import PPStructure\n",
    "from bs4 import BeautifulSoup\n",
    "import re"
   ],
   "outputs": [],
   "execution_count": 1
  },
  {
   "cell_type": "code",
   "metadata": {
    "ExecuteTime": {
     "end_time": "2024-06-09T14:12:20.211837Z",
     "start_time": "2024-06-09T14:12:19.028137Z"
    }
   },
   "source": [
    "img_path= \"image/IMG-20240528-WA0020.jpg\"\n",
    "\n",
    "table_engine = PPStructure(layout=False, show_log=True, ocr=True)\n",
    "img = cv2.imread(img_path)\n",
    "result = table_engine(img)\n",
    "\n",
    "# result[0]['res']['html']"
   ],
   "outputs": [
    {
     "name": "stdout",
     "output_type": "stream",
     "text": [
      "[2024/06/09 22:12:19] ppocr DEBUG: Namespace(help='==SUPPRESS==', use_gpu=False, use_xpu=False, use_npu=False, ir_optim=True, use_tensorrt=False, min_subgraph_size=15, precision='fp32', gpu_mem=500, gpu_id=0, image_dir=None, page_num=0, det_algorithm='DB', det_model_dir='C:\\\\Users\\\\Rafael-PC/.paddleocr/whl\\\\det\\\\ch\\\\ch_PP-OCRv4_det_infer', det_limit_side_len=960, det_limit_type='max', det_box_type='quad', det_db_thresh=0.3, det_db_box_thresh=0.6, det_db_unclip_ratio=1.5, max_batch_size=10, use_dilation=False, det_db_score_mode='fast', det_east_score_thresh=0.8, det_east_cover_thresh=0.1, det_east_nms_thresh=0.2, det_sast_score_thresh=0.5, det_sast_nms_thresh=0.2, det_pse_thresh=0, det_pse_box_thresh=0.85, det_pse_min_area=16, det_pse_scale=1, scales=[8, 16, 32], alpha=1.0, beta=1.0, fourier_degree=5, rec_algorithm='SVTR_LCNet', rec_model_dir='C:\\\\Users\\\\Rafael-PC/.paddleocr/whl\\\\rec\\\\ch\\\\ch_PP-OCRv4_rec_infer', rec_image_inverse=True, rec_image_shape='3, 48, 320', rec_batch_num=6, max_text_length=25, rec_char_dict_path='D:\\\\gdrive\\\\kuliah\\\\magang_studi_independen\\\\bangkit 2024 batch 6\\\\capstone\\\\nutri_grade_scanning\\\\.venv\\\\lib\\\\site-packages\\\\paddleocr\\\\ppocr\\\\utils\\\\ppocr_keys_v1.txt', use_space_char=True, vis_font_path='./doc/fonts/simfang.ttf', drop_score=0.5, e2e_algorithm='PGNet', e2e_model_dir=None, e2e_limit_side_len=768, e2e_limit_type='max', e2e_pgnet_score_thresh=0.5, e2e_char_dict_path='./ppocr/utils/ic15_dict.txt', e2e_pgnet_valid_set='totaltext', e2e_pgnet_mode='fast', use_angle_cls=False, cls_model_dir=None, cls_image_shape='3, 48, 192', label_list=['0', '180'], cls_batch_num=6, cls_thresh=0.9, enable_mkldnn=False, cpu_threads=10, use_pdserving=False, warmup=False, sr_model_dir=None, sr_image_shape='3, 32, 128', sr_batch_num=1, draw_img_save_dir='./inference_results', save_crop_res=False, crop_res_save_dir='./output', use_mp=False, total_process_num=1, process_id=0, benchmark=False, save_log_path='./log_output/', show_log=True, use_onnx=False, output='./output', table_max_len=488, table_algorithm='TableAttn', table_model_dir='C:\\\\Users\\\\Rafael-PC/.paddleocr/whl\\\\table\\\\ch_ppstructure_mobile_v2.0_SLANet_infer', merge_no_span_structure=True, table_char_dict_path='D:\\\\gdrive\\\\kuliah\\\\magang_studi_independen\\\\bangkit 2024 batch 6\\\\capstone\\\\nutri_grade_scanning\\\\.venv\\\\lib\\\\site-packages\\\\paddleocr\\\\ppocr\\\\utils\\\\dict\\\\table_structure_dict_ch.txt', layout_model_dir='C:\\\\Users\\\\Rafael-PC/.paddleocr/whl\\\\layout\\\\picodet_lcnet_x1_0_fgd_layout_cdla_infer', layout_dict_path='D:\\\\gdrive\\\\kuliah\\\\magang_studi_independen\\\\bangkit 2024 batch 6\\\\capstone\\\\nutri_grade_scanning\\\\.venv\\\\lib\\\\site-packages\\\\paddleocr\\\\ppocr\\\\utils\\\\dict\\\\layout_dict\\\\layout_cdla_dict.txt', layout_score_threshold=0.5, layout_nms_threshold=0.5, kie_algorithm='LayoutXLM', ser_model_dir=None, re_model_dir=None, use_visual_backbone=True, ser_dict_path='../train_data/XFUND/class_list_xfun.txt', ocr_order_method=None, mode='structure', image_orientation=False, layout=False, table=True, ocr=True, recovery=False, use_pdf2docx_api=False, invert=False, binarize=False, alphacolor=(255, 255, 255), lang='ch', det=True, rec=True, type='ocr', ocr_version='PP-OCRv4', structure_version='PP-StructureV2')\n",
      "[2024/06/09 22:12:19] ppocr WARNING: When args.layout is false, args.ocr is automatically set to false\n"
     ]
    },
    {
     "ename": "AttributeError",
     "evalue": "'NoneType' object has no attribute 'copy'",
     "output_type": "error",
     "traceback": [
      "\u001B[1;31m---------------------------------------------------------------------------\u001B[0m",
      "\u001B[1;31mAttributeError\u001B[0m                            Traceback (most recent call last)",
      "Cell \u001B[1;32mIn[3], line 5\u001B[0m\n\u001B[0;32m      3\u001B[0m table_engine \u001B[38;5;241m=\u001B[39m PPStructure(layout\u001B[38;5;241m=\u001B[39m\u001B[38;5;28;01mFalse\u001B[39;00m, show_log\u001B[38;5;241m=\u001B[39m\u001B[38;5;28;01mTrue\u001B[39;00m, ocr\u001B[38;5;241m=\u001B[39m\u001B[38;5;28;01mTrue\u001B[39;00m)\n\u001B[0;32m      4\u001B[0m img \u001B[38;5;241m=\u001B[39m cv2\u001B[38;5;241m.\u001B[39mimread(img_path)\n\u001B[1;32m----> 5\u001B[0m result \u001B[38;5;241m=\u001B[39m \u001B[43mtable_engine\u001B[49m\u001B[43m(\u001B[49m\u001B[43mimg\u001B[49m\u001B[43m)\u001B[49m\n\u001B[0;32m      7\u001B[0m \u001B[38;5;66;03m# result[0]['res']['html']\u001B[39;00m\n",
      "File \u001B[1;32mD:\\gdrive\\kuliah\\magang_studi_independen\\bangkit 2024 batch 6\\capstone\\nutri_grade_scanning\\.venv\\lib\\site-packages\\paddleocr\\paddleocr.py:766\u001B[0m, in \u001B[0;36mPPStructure.__call__\u001B[1;34m(self, img, return_ocr_result_in_table, img_idx)\u001B[0m\n\u001B[0;32m    764\u001B[0m \u001B[38;5;28;01mdef\u001B[39;00m \u001B[38;5;21m__call__\u001B[39m(\u001B[38;5;28mself\u001B[39m, img, return_ocr_result_in_table\u001B[38;5;241m=\u001B[39m\u001B[38;5;28;01mFalse\u001B[39;00m, img_idx\u001B[38;5;241m=\u001B[39m\u001B[38;5;241m0\u001B[39m):\n\u001B[0;32m    765\u001B[0m     img \u001B[38;5;241m=\u001B[39m check_img(img)\n\u001B[1;32m--> 766\u001B[0m     res, _ \u001B[38;5;241m=\u001B[39m \u001B[38;5;28;43msuper\u001B[39;49m\u001B[43m(\u001B[49m\u001B[43m)\u001B[49m\u001B[38;5;241;43m.\u001B[39;49m\u001B[38;5;21;43m__call__\u001B[39;49m\u001B[43m(\u001B[49m\n\u001B[0;32m    767\u001B[0m \u001B[43m        \u001B[49m\u001B[43mimg\u001B[49m\u001B[43m,\u001B[49m\u001B[43m \u001B[49m\u001B[43mreturn_ocr_result_in_table\u001B[49m\u001B[43m,\u001B[49m\u001B[43m \u001B[49m\u001B[43mimg_idx\u001B[49m\u001B[38;5;241;43m=\u001B[39;49m\u001B[43mimg_idx\u001B[49m\u001B[43m)\u001B[49m\n\u001B[0;32m    768\u001B[0m     \u001B[38;5;28;01mreturn\u001B[39;00m res\n",
      "File \u001B[1;32mD:\\gdrive\\kuliah\\magang_studi_independen\\bangkit 2024 batch 6\\capstone\\nutri_grade_scanning\\.venv\\lib\\site-packages\\paddleocr\\ppstructure\\predict_system.py:110\u001B[0m, in \u001B[0;36mStructureSystem.__call__\u001B[1;34m(self, img, return_ocr_result_in_table, img_idx)\u001B[0m\n\u001B[0;32m    108\u001B[0m     time_dict[\u001B[38;5;124m'\u001B[39m\u001B[38;5;124mimage_orientation\u001B[39m\u001B[38;5;124m'\u001B[39m] \u001B[38;5;241m=\u001B[39m toc \u001B[38;5;241m-\u001B[39m tic\n\u001B[0;32m    109\u001B[0m \u001B[38;5;28;01mif\u001B[39;00m \u001B[38;5;28mself\u001B[39m\u001B[38;5;241m.\u001B[39mmode \u001B[38;5;241m==\u001B[39m \u001B[38;5;124m'\u001B[39m\u001B[38;5;124mstructure\u001B[39m\u001B[38;5;124m'\u001B[39m:\n\u001B[1;32m--> 110\u001B[0m     ori_im \u001B[38;5;241m=\u001B[39m \u001B[43mimg\u001B[49m\u001B[38;5;241;43m.\u001B[39;49m\u001B[43mcopy\u001B[49m()\n\u001B[0;32m    111\u001B[0m     \u001B[38;5;28;01mif\u001B[39;00m \u001B[38;5;28mself\u001B[39m\u001B[38;5;241m.\u001B[39mlayout_predictor \u001B[38;5;129;01mis\u001B[39;00m \u001B[38;5;129;01mnot\u001B[39;00m \u001B[38;5;28;01mNone\u001B[39;00m:\n\u001B[0;32m    112\u001B[0m         layout_res, elapse \u001B[38;5;241m=\u001B[39m \u001B[38;5;28mself\u001B[39m\u001B[38;5;241m.\u001B[39mlayout_predictor(img)\n",
      "\u001B[1;31mAttributeError\u001B[0m: 'NoneType' object has no attribute 'copy'"
     ]
    }
   ],
   "execution_count": 3
  },
  {
   "cell_type": "code",
   "metadata": {
    "ExecuteTime": {
     "end_time": "2024-06-09T14:12:20.958891Z",
     "start_time": "2024-06-09T14:12:20.939595Z"
    }
   },
   "source": [
    "# convert html to text pake beautifulsoup\n",
    "soup = BeautifulSoup(result[0]['res']['html'], 'html.parser')\n",
    "td_elements = soup.find_all('td')\n",
    "\n",
    "extracted_text = [td.get_text(strip=True) for td in td_elements]\n",
    "\n",
    "text = \"\\n\".join(extracted_text).lower()\n",
    "print(text)\n"
   ],
   "outputs": [
    {
     "ename": "NameError",
     "evalue": "name 'result' is not defined",
     "output_type": "error",
     "traceback": [
      "\u001B[1;31m---------------------------------------------------------------------------\u001B[0m",
      "\u001B[1;31mNameError\u001B[0m                                 Traceback (most recent call last)",
      "Cell \u001B[1;32mIn[4], line 2\u001B[0m\n\u001B[0;32m      1\u001B[0m \u001B[38;5;66;03m# convert html to text pake beautifulsoup\u001B[39;00m\n\u001B[1;32m----> 2\u001B[0m soup \u001B[38;5;241m=\u001B[39m BeautifulSoup(\u001B[43mresult\u001B[49m[\u001B[38;5;241m0\u001B[39m][\u001B[38;5;124m'\u001B[39m\u001B[38;5;124mres\u001B[39m\u001B[38;5;124m'\u001B[39m][\u001B[38;5;124m'\u001B[39m\u001B[38;5;124mhtml\u001B[39m\u001B[38;5;124m'\u001B[39m], \u001B[38;5;124m'\u001B[39m\u001B[38;5;124mhtml.parser\u001B[39m\u001B[38;5;124m'\u001B[39m)\n\u001B[0;32m      3\u001B[0m td_elements \u001B[38;5;241m=\u001B[39m soup\u001B[38;5;241m.\u001B[39mfind_all(\u001B[38;5;124m'\u001B[39m\u001B[38;5;124mtd\u001B[39m\u001B[38;5;124m'\u001B[39m)\n\u001B[0;32m      5\u001B[0m extracted_text \u001B[38;5;241m=\u001B[39m [td\u001B[38;5;241m.\u001B[39mget_text(strip\u001B[38;5;241m=\u001B[39m\u001B[38;5;28;01mTrue\u001B[39;00m) \u001B[38;5;28;01mfor\u001B[39;00m td \u001B[38;5;129;01min\u001B[39;00m td_elements]\n",
      "\u001B[1;31mNameError\u001B[0m: name 'result' is not defined"
     ]
    }
   ],
   "execution_count": 4
  },
  {
   "cell_type": "code",
   "metadata": {
    "ExecuteTime": {
     "end_time": "2024-06-09T14:12:21.871668Z",
     "start_time": "2024-06-09T14:12:21.862660Z"
    }
   },
   "source": [
    "def cleaning_text(text):\n",
    "    # buat new line setiap ada '%' \n",
    "    text = re.sub(r'%', '%\\n', text)\n",
    "    #replace '9' with 'g' kalo setelahnya space atau end of line\n",
    "    text = re.sub(r'(?<=\\d)9(?=\\s|$)', 'g', text)\n",
    "    return text"
   ],
   "outputs": [],
   "execution_count": 5
  },
  {
   "cell_type": "code",
   "metadata": {
    "ExecuteTime": {
     "end_time": "2024-06-09T14:12:22.370300Z",
     "start_time": "2024-06-09T14:12:22.346300Z"
    }
   },
   "source": [
    "cleaned_text = cleaning_text(text)\n",
    "print(cleaned_text)"
   ],
   "outputs": [
    {
     "ename": "NameError",
     "evalue": "name 'text' is not defined",
     "output_type": "error",
     "traceback": [
      "\u001B[1;31m---------------------------------------------------------------------------\u001B[0m",
      "\u001B[1;31mNameError\u001B[0m                                 Traceback (most recent call last)",
      "Cell \u001B[1;32mIn[6], line 1\u001B[0m\n\u001B[1;32m----> 1\u001B[0m cleaned_text \u001B[38;5;241m=\u001B[39m cleaning_text(\u001B[43mtext\u001B[49m)\n\u001B[0;32m      2\u001B[0m \u001B[38;5;28mprint\u001B[39m(cleaned_text)\n",
      "\u001B[1;31mNameError\u001B[0m: name 'text' is not defined"
     ]
    }
   ],
   "execution_count": 6
  },
  {
   "cell_type": "code",
   "metadata": {
    "ExecuteTime": {
     "end_time": "2024-06-09T14:12:23.053314Z",
     "start_time": "2024-06-09T14:12:23.039316Z"
    }
   },
   "source": [
    "def find_value(img_text, *keywords):\n",
    "    clean_text = cleaning_text(img_text)\n",
    "    lines = clean_text.split('\\n')\n",
    "    for i, line in enumerate(lines):\n",
    "        for keyword in keywords:\n",
    "            if keyword in line.lower():\n",
    "                pattern = rf\"({keyword}.*?)(\\d+(?:\\.\\d+)?)\"\n",
    "                match = re.search(pattern, clean_text, re.DOTALL)\n",
    "                if match:\n",
    "                    return float(match.group(2))\n",
    "    return float(0)"
   ],
   "outputs": [],
   "execution_count": 7
  },
  {
   "cell_type": "code",
   "metadata": {
    "ExecuteTime": {
     "end_time": "2024-06-09T14:12:23.583546Z",
     "start_time": "2024-06-09T14:12:23.569542Z"
    }
   },
   "source": [
    "sajian = find_value(text, 'serving')\n",
    "energy_value = find_value(text, 'energi')\n",
    "protein_value = find_value(text, 'protein')\n",
    "lemak_value = find_value(text, 'lemak total')\n",
    "karbohidrat_value = find_value(text, 'karbohidrat')\n",
    "serat_value = find_value(text, 'serat')\n",
    "natrium_value = find_value(text, 'natrium')\n",
    "\n",
    "print('Jumlah Per Sajian :', sajian, \"\\nEnergi :\", energy_value, \"\\n\"\"Protein :\", protein_value, \"\\n\"\"Lemak :\", lemak_value, \"\\n\"\"Karbohidrat :\", karbohidrat_value, \"\\n\"\"Serat :\", serat_value, \"\\n\"\"Natrium :\", natrium_value)\n",
    "\n",
    "# print(\"Energi :\", energy_value, \"\\n\"\"Protein :\", protein_value, \"\\n\"\"Lemak :\", lemak_value, \"\\n\"\"Karbohidrat :\", karbohidrat_value, \"\\n\"\"Serat :\", serat_value, \"\\n\"\"Natrium :\", natrium_value)"
   ],
   "outputs": [
    {
     "ename": "NameError",
     "evalue": "name 'text' is not defined",
     "output_type": "error",
     "traceback": [
      "\u001B[1;31m---------------------------------------------------------------------------\u001B[0m",
      "\u001B[1;31mNameError\u001B[0m                                 Traceback (most recent call last)",
      "Cell \u001B[1;32mIn[8], line 1\u001B[0m\n\u001B[1;32m----> 1\u001B[0m sajian \u001B[38;5;241m=\u001B[39m find_value(\u001B[43mtext\u001B[49m, \u001B[38;5;124m'\u001B[39m\u001B[38;5;124mserving\u001B[39m\u001B[38;5;124m'\u001B[39m)\n\u001B[0;32m      2\u001B[0m energy_value \u001B[38;5;241m=\u001B[39m find_value(cleaned_text, \u001B[38;5;124m'\u001B[39m\u001B[38;5;124menergi\u001B[39m\u001B[38;5;124m'\u001B[39m)\n\u001B[0;32m      3\u001B[0m protein_value \u001B[38;5;241m=\u001B[39m find_value(cleaned_text, \u001B[38;5;124m'\u001B[39m\u001B[38;5;124mprotein\u001B[39m\u001B[38;5;124m'\u001B[39m)\n",
      "\u001B[1;31mNameError\u001B[0m: name 'text' is not defined"
     ]
    }
   ],
   "execution_count": 8
  },
  {
   "metadata": {},
   "cell_type": "code",
   "outputs": [],
   "execution_count": null,
   "source": ""
  }
 ],
 "metadata": {
  "kernelspec": {
   "display_name": "Python 3",
   "language": "python",
   "name": "python3"
  },
  "language_info": {
   "codemirror_mode": {
    "name": "ipython",
    "version": 3
   },
   "file_extension": ".py",
   "mimetype": "text/x-python",
   "name": "python",
   "nbconvert_exporter": "python",
   "pygments_lexer": "ipython3",
   "version": "3.10.9"
  }
 },
 "nbformat": 4,
 "nbformat_minor": 2
}
